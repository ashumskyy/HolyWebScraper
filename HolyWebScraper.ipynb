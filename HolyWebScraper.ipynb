{
 "cells": [
  {
   "cell_type": "code",
   "execution_count": 15,
   "id": "b2692044-1137-4295-99e3-aa627142aec3",
   "metadata": {},
   "outputs": [],
   "source": [
    "import requests\n",
    "from bs4 import BeautifulSoup\n",
    "from selenium import webdriver\n",
    "import scrapy\n",
    "import pandas as pd\n",
    "import time"
   ]
  },
  {
   "cell_type": "code",
   "execution_count": 2,
   "id": "cc54d1d1-1f31-4095-bc95-c28688dd7421",
   "metadata": {},
   "outputs": [],
   "source": [
    "# TEST\n",
    "# Fetch the webpage\n",
    "response = requests.get('http://example.com')\n",
    "html = response.content"
   ]
  },
  {
   "cell_type": "code",
   "execution_count": 3,
   "id": "2fb58345-83c0-4052-8868-f7bb0c759177",
   "metadata": {},
   "outputs": [],
   "source": [
    "# Parse \n",
    "soup = BeautifulSoup(html, 'html.parser')"
   ]
  },
  {
   "cell_type": "code",
   "execution_count": 7,
   "id": "a42f56f3-3ec5-4c4a-bf38-5e30353953ce",
   "metadata": {},
   "outputs": [
    {
     "name": "stdout",
     "output_type": "stream",
     "text": [
      "     tag                                            content\n",
      "0   html  \\n\\nExample Domain\\n\\n\\n\\n\\n\\n\\n\\nExample Doma...\n",
      "1   head                         \\nExample Domain\\n\\n\\n\\n\\n\n",
      "2  title                                     Example Domain\n",
      "3   meta                                                   \n",
      "4   meta                                                   \n"
     ]
    }
   ],
   "source": [
    "# Extract data and put it in a DF\n",
    "data = {'tag':[], 'content':[]}\n",
    "for tag in soup.find_all(True):\n",
    "    data['tag'].append(tag.name)\n",
    "    data['content'].append(tag.text)\n",
    "\n",
    "df = pd.DataFrame(data)\n",
    "print(df.head())"
   ]
  },
  {
   "cell_type": "code",
   "execution_count": 8,
   "id": "2606dab1-16b6-494d-83b1-66efd52ae4b3",
   "metadata": {},
   "outputs": [],
   "source": [
    "# PROJECT"
   ]
  },
  {
   "cell_type": "code",
   "execution_count": 16,
   "id": "dee44dba-a68b-4bc1-9be1-3b554877b3b8",
   "metadata": {},
   "outputs": [],
   "source": [
    "# Get state urls:\n",
    "def get_state_urls(base_url):\n",
    "    headers = {\n",
    "        'User-Agent': 'Mozilla/5.0 (Windows NT 10.0; Win64; x64) AppleWebKit/537.36 (KHTML, like Gecko) Chrome/58.0.3029.110 Safari/537.3'\n",
    "    }\n",
    "    response = requests.get(base_url, headers=headers)\n",
    "\n",
    "    if response.status_code != 200:\n",
    "        print(\"Failed to retrieve the page. Status code:\", response.status_code)\n",
    "        return {}\n",
    "\n",
    "    soup = BeautifulSoup(response.content, 'html.parser')\n",
    "    state_urls = {}\n",
    "\n",
    "    for link in soup.find_all('a'):\n",
    "        state_name = link.text.strip()\n",
    "        relative_url = link.get('href')\n",
    "\n",
    "        if relative_url and 'church-in-' in relative_url:\n",
    "            full_url = base_url + '/' + relative_url\n",
    "            state_urls[state_name] = full_url\n",
    "\n",
    "    return state_urls"
   ]
  },
  {
   "cell_type": "code",
   "execution_count": 17,
   "id": "b4db29b5-13f4-4ca4-9ec0-90ef6586a49e",
   "metadata": {},
   "outputs": [
    {
     "name": "stdout",
     "output_type": "stream",
     "text": [
      "{'Alabama': 'https://www.usachurches.org/church-in-al.htm', 'Alaska': 'https://www.usachurches.org/church-in-ak.htm', 'Arizona': 'https://www.usachurches.org/church-in-az.htm', 'Arkansas': 'https://www.usachurches.org/church-in-ar.htm', 'California': 'https://www.usachurches.org/church-in-ca.htm', 'Colorado': 'https://www.usachurches.org/church-in-co.htm', 'Connecticut': 'https://www.usachurches.org/church-in-ct.htm', 'Delaware': 'https://www.usachurches.org/church-in-de.htm', 'Florida': 'https://www.usachurches.org/church-in-fl.htm', 'Georgia': 'https://www.usachurches.org/church-in-ga.htm', 'Hawaii': 'https://www.usachurches.org/church-in-hi.htm', 'Idaho': 'https://www.usachurches.org/church-in-id.htm', 'Illinois': 'https://www.usachurches.org/church-in-il.htm', 'Indiana': 'https://www.usachurches.org/church-in-in.htm', 'Iowa': 'https://www.usachurches.org/church-in-ia.htm', 'Kansas': 'https://www.usachurches.org/church-in-ks.htm', 'Kentucky': 'https://www.usachurches.org/church-in-ky.htm', 'Louisiana': 'https://www.usachurches.org/church-in-la.htm', 'Maine': 'https://www.usachurches.org/church-in-me.htm', 'Maryland': 'https://www.usachurches.org/church-in-md.htm', 'Massachusetts': 'https://www.usachurches.org/church-in-ma.htm', 'Michigan': 'https://www.usachurches.org/church-in-mi.htm', 'Minnesota': 'https://www.usachurches.org/church-in-mn.htm', 'Mississippi': 'https://www.usachurches.org/church-in-ms.htm', 'Missouri': 'https://www.usachurches.org/church-in-mo.htm', 'Montana': 'https://www.usachurches.org/church-in-mt.htm', 'Nebraska': 'https://www.usachurches.org/church-in-ne.htm', 'Nevada': 'https://www.usachurches.org/church-in-nv.htm', 'New Hampshire': 'https://www.usachurches.org/church-in-nh.htm', 'New Jersey': 'https://www.usachurches.org/church-in-nj.htm', 'New Mexico': 'https://www.usachurches.org/church-in-nm.htm', 'New York': 'https://www.usachurches.org/church-in-ny.htm', 'North Carolina': 'https://www.usachurches.org/church-in-nc.htm', 'North Dakota': 'https://www.usachurches.org/church-in-nd.htm', 'Ohio': 'https://www.usachurches.org/church-in-oh.htm', 'Oklahoma': 'https://www.usachurches.org/church-in-ok.htm', 'Oregon': 'https://www.usachurches.org/church-in-or.htm', 'Pennsylvania': 'https://www.usachurches.org/church-in-pa.htm', 'Rhode Island': 'https://www.usachurches.org/church-in-ri.htm', 'South Carolina': 'https://www.usachurches.org/church-in-sc.htm', 'South Dakota': 'https://www.usachurches.org/church-in-sd.htm', 'Tennessee': 'https://www.usachurches.org/church-in-tn.htm', 'Texas': 'https://www.usachurches.org/church-in-tx.htm', 'Utah': 'https://www.usachurches.org/church-in-ut.htm', 'Vermont': 'https://www.usachurches.org/church-in-vt.htm', 'Virginia': 'https://www.usachurches.org/church-in-va.htm', 'Washington': 'https://www.usachurches.org/church-in-wa.htm', 'Washington DC': 'https://www.usachurches.org/church-in-dc.htm', 'West Virginia': 'https://www.usachurches.org/church-in-wv.htm', 'Wisconsin': 'https://www.usachurches.org/church-in-wi.htm', 'Wyoming': 'https://www.usachurches.org/church-in-wy.htm', 'Evangelical Lutheran Church in America': 'https://www.usachurches.org/../denomination/evangelical-lutheran-church-in-america.htm'}\n"
     ]
    }
   ],
   "source": [
    "\n",
    "base_url = 'https://www.usachurches.org'\n",
    "states = get_state_urls(base_url)\n",
    "print(states)"
   ]
  },
  {
   "cell_type": "code",
   "execution_count": 18,
   "id": "1e2b0c76-7eab-48d2-9ca6-1d64aaada30a",
   "metadata": {},
   "outputs": [
    {
     "name": "stdout",
     "output_type": "stream",
     "text": [
      "52\n"
     ]
    }
   ],
   "source": [
    "print(len(states))"
   ]
  },
  {
   "cell_type": "code",
   "execution_count": 20,
   "id": "55e606cf-db84-478a-90a2-085b767c85db",
   "metadata": {},
   "outputs": [
    {
     "name": "stdout",
     "output_type": "stream",
     "text": [
      "51\n"
     ]
    }
   ],
   "source": [
    "del states['Evangelical Lutheran Church in America']\n",
    "print(len(states))"
   ]
  },
  {
   "cell_type": "code",
   "execution_count": null,
   "id": "44d781dd-8b40-4bc9-9587-76a49762d43d",
   "metadata": {},
   "outputs": [],
   "source": []
  }
 ],
 "metadata": {
  "kernelspec": {
   "display_name": "Python 3 (ipykernel)",
   "language": "python",
   "name": "python3"
  },
  "language_info": {
   "codemirror_mode": {
    "name": "ipython",
    "version": 3
   },
   "file_extension": ".py",
   "mimetype": "text/x-python",
   "name": "python",
   "nbconvert_exporter": "python",
   "pygments_lexer": "ipython3",
   "version": "3.8.18"
  }
 },
 "nbformat": 4,
 "nbformat_minor": 5
}
